{
 "cells": [
  {
   "cell_type": "markdown",
   "metadata": {
    "id": "F6pbJ81KvKul"
   },
   "source": [
    "# Legion Segmentation with SegResNet"
   ]
  },
  {
   "cell_type": "markdown",
   "metadata": {
    "id": "vQlrVVYZvKup"
   },
   "source": [
    "## Setup imports"
   ]
  },
  {
   "cell_type": "code",
   "execution_count": null,
   "metadata": {
    "colab": {
     "base_uri": "https://localhost:8080/"
    },
    "executionInfo": {
     "elapsed": 9747,
     "status": "ok",
     "timestamp": 1693213253661,
     "user": {
      "displayName": "Chang-hyun Park",
      "userId": "11098257337995388595"
     },
     "user_tz": -540
    },
    "id": "g2LUzRUFvKup",
    "outputId": "37e2a067-897b-4a4e-b210-5ea5f44fae52",
    "scrolled": true,
    "tags": []
   },
   "outputs": [],
   "source": [
    "import torch\n",
    "import numpy as np\n",
    "import glob\n",
    "import os\n",
    "import logging\n",
    "import time\n",
    "import matplotlib.pyplot as plt\n",
    "%matplotlib inline\n",
    "\n",
    "from monai.config import print_config\n",
    "from monai.data import ArrayDataset, decollate_batch, DataLoader\n",
    "from monai.losses import DiceLoss\n",
    "from monai.metrics import DiceMetric\n",
    "from monai.networks.nets import SegResNet\n",
    "from monai.transforms import (\n",
    "    Compose,\n",
    "    LoadImage,\n",
    "    EnsureChannelFirst,\n",
    "    Resize,\n",
    "    NormalizeIntensity,\n",
    "    Activations,\n",
    "    AsDiscrete,\n",
    "    SqueezeDim,\n",
    "    SaveImage,\n",
    ")\n",
    "from monai.utils import first, set_determinism\n",
    "\n",
    "print_config()"
   ]
  },
  {
   "cell_type": "markdown",
   "metadata": {},
   "source": [
    "## Set deterministic training for reproducibility"
   ]
  },
  {
   "cell_type": "code",
   "execution_count": 5,
   "metadata": {},
   "outputs": [],
   "source": [
    "set_determinism(seed=0)"
   ]
  },
  {
   "cell_type": "markdown",
   "metadata": {
    "id": "3YLkmjErvKuq"
   },
   "source": [
    "## Setup data directory and data"
   ]
  },
  {
   "cell_type": "code",
   "execution_count": null,
   "metadata": {
    "colab": {
     "base_uri": "https://localhost:8080/"
    },
    "executionInfo": {
     "elapsed": 382,
     "status": "ok",
     "timestamp": 1693213317901,
     "user": {
      "displayName": "Chang-hyun Park",
      "userId": "11098257337995388595"
     },
     "user_tz": -540
    },
    "id": "M4bGcYzCvKuq",
    "outputId": "8fb93037-33e0-4dad-aea6-07fb16c133fa",
    "tags": []
   },
   "outputs": [],
   "source": [
    "root_dir = \"C:\\\\LesionSegmentation\\\\train\"\n",
    "print(root_dir)\n",
    "images = sorted(glob.glob(os.path.join(root_dir, \"brain*.nii.gz\")))\n",
    "segs = sorted(glob.glob(os.path.join(root_dir, \"lesionmask*.nii.gz\")))"
   ]
  },
  {
   "cell_type": "markdown",
   "metadata": {
    "id": "9PzSlinvvKur"
   },
   "source": [
    "## Setup logging"
   ]
  },
  {
   "cell_type": "code",
   "execution_count": 7,
   "metadata": {
    "executionInfo": {
     "elapsed": 381,
     "status": "ok",
     "timestamp": 1693212125174,
     "user": {
      "displayName": "Chang-hyun Park",
      "userId": "11098257337995388595"
     },
     "user_tz": -540
    },
    "id": "B0MLWufyvKur"
   },
   "outputs": [],
   "source": [
    "log_file = os.path.join(root_dir, \"demo.log\")\n",
    "logging.basicConfig(filename=log_file, level=logging.INFO, format=\"%(asctime)s -  %(message)s\")\n",
    "logger = logging.getLogger()"
   ]
  },
  {
   "cell_type": "markdown",
   "metadata": {
    "id": "GzGa-OZQvKus"
   },
   "source": [
    "## Setup transforms, dataset"
   ]
  },
  {
   "cell_type": "code",
   "execution_count": null,
   "metadata": {
    "colab": {
     "base_uri": "https://localhost:8080/",
     "height": 246
    },
    "executionInfo": {
     "elapsed": 325,
     "status": "error",
     "timestamp": 1693213365871,
     "user": {
      "displayName": "Chang-hyun Park",
      "userId": "11098257337995388595"
     },
     "user_tz": -540
    },
    "id": "a71TP7hevKus",
    "outputId": "094a5be0-2961-454f-e7de-c7bfc265e5f6",
    "tags": []
   },
   "outputs": [],
   "source": [
    "# Define transforms for image and segmentation\n",
    "train_imtrans = Compose(\n",
    "    [\n",
    "        LoadImage(image_only=True),\n",
    "        EnsureChannelFirst(),\n",
    "        Resize((64, 64, 64), mode=\"trilinear\"),\n",
    "        NormalizeIntensity(nonzero=True, channel_wise=True),\n",
    "    ]\n",
    ")\n",
    "train_segtrans = Compose(\n",
    "    [\n",
    "        LoadImage(image_only=True),\n",
    "        EnsureChannelFirst(),\n",
    "        Resize((64, 64, 64), mode=\"nearest\"),\n",
    "    ]\n",
    ")\n",
    "val_imtrans = Compose(\n",
    "    [\n",
    "        LoadImage(image_only=True),\n",
    "        EnsureChannelFirst(),\n",
    "        Resize((64, 64, 64), mode=\"trilinear\"),\n",
    "        NormalizeIntensity(nonzero=True, channel_wise=True),\n",
    "    ]\n",
    ")\n",
    "val_segtrans = Compose(\n",
    "    [\n",
    "        LoadImage(image_only=True),\n",
    "        EnsureChannelFirst(),\n",
    "        Resize((64, 64, 64), mode=\"nearest\"),\n",
    "    ]\n",
    ")\n",
    "\n",
    "# Define NIfTI dataset, dataloader\n",
    "train_ds = ArrayDataset(images[:500], train_imtrans, segs[:500], train_segtrans)\n",
    "train_loader = DataLoader(train_ds, batch_size=5, shuffle=True, num_workers=8, pin_memory=torch.cuda.is_available())\n",
    "val_ds = ArrayDataset(images[500:], val_imtrans, segs[500:], val_segtrans)\n",
    "val_loader = DataLoader(val_ds, batch_size=5, num_workers=2, pin_memory=torch.cuda.is_available())\n",
    "\n",
    "# Check data shape and visualize\n",
    "im, seg = first(train_loader)\n",
    "print(im.shape, seg.shape)"
   ]
  },
  {
   "cell_type": "markdown",
   "metadata": {},
   "source": [
    "## Check data shape and visualize"
   ]
  },
  {
   "cell_type": "code",
   "execution_count": null,
   "metadata": {},
   "outputs": [],
   "source": [
    "fig = plt.figure(\"Example image and mask for training\", (12, 6))\n",
    "ax1 = fig.add_subplot(1, 2, 1)\n",
    "ax1.set_title(\"Image\")\n",
    "ax1.imshow(im[0,0,:, :, 30].detach().cpu(), cmap=\"gray\")\n",
    "ax1.axis('off')\n",
    "ax2 = fig.add_subplot(1, 2, 2)\n",
    "ax2.set_title(\"Mask\")\n",
    "ax2.imshow(seg[0,0,:, :, 30].detach().cpu(), cmap=\"gray\")\n",
    "ax2.axis('off')\n",
    "plt.savefig(os.path.join(root_dir, \"image_mask.tif\"))\n",
    "plt.show"
   ]
  },
  {
   "cell_type": "markdown",
   "metadata": {
    "id": "6oiiNZvMvKus"
   },
   "source": [
    "## Create model"
   ]
  },
  {
   "cell_type": "code",
   "execution_count": 23,
   "metadata": {
    "id": "Lgsey9jovKus"
   },
   "outputs": [],
   "source": [
    "max_epochs = 100\n",
    "val_interval = 1\n",
    "lr = 1e-4\n",
    "\n",
    "# Create UNet, DiceLoss and Adam optimizer\n",
    "device = torch.device(\"cuda\")\n",
    "# device = torch.device(\"mps\")\n",
    "# device = torch.device(\"cpu\")\n",
    "model = SegResNet(\n",
    "    blocks_down=(1, 2, 2, 4),\n",
    "    blocks_up=(1, 1, 1),\n",
    "    init_filters=16,\n",
    "    in_channels=1,\n",
    "    out_channels=1,\n",
    "    dropout_prob=0.2,\n",
    ").to(device)\n",
    "\n",
    "loss_function = DiceLoss(smooth_nr=0, smooth_dr=1e-5, squared_pred=True, sigmoid=True)\n",
    "optimizer = torch.optim.Adam(model.parameters(), lr, weight_decay=1e-5)\n",
    "lr_scheduler = torch.optim.lr_scheduler.CosineAnnealingLR(optimizer, T_max=max_epochs)\n",
    "\n",
    "dice_metric = DiceMetric(include_background=True, reduction=\"mean\")\n",
    "\n",
    "post_pred = Compose([Activations(sigmoid=True), AsDiscrete(threshold=0.5)])\n",
    "post_label = Compose([AsDiscrete(threshold=0.5)])\n",
    "    \n",
    "# Use AMP to accelerate training\n",
    "if torch.cuda.is_available():\n",
    "    scaler = torch.cuda.amp.GradScaler()"
   ]
  },
  {
   "cell_type": "markdown",
   "metadata": {
    "id": "kSgfm5-cvKut"
   },
   "source": [
    "## Execute training process"
   ]
  },
  {
   "cell_type": "code",
   "execution_count": null,
   "metadata": {
    "id": "hCtJPgU9vKut",
    "scrolled": true
   },
   "outputs": [],
   "source": [
    "best_metric = -1\n",
    "best_metric_epoch = -1\n",
    "best_metrics_epochs_and_time = [[], [], []]\n",
    "epoch_loss_values = []\n",
    "epoch_metric_values = []\n",
    "metric_values = []\n",
    "\n",
    "total_start = time.time()\n",
    "for epoch in range(max_epochs):\n",
    "    epoch_start = time.time()\n",
    "    print(\"-\" * 10)\n",
    "    print(f\"epoch {epoch + 1}/{max_epochs}\")\n",
    "    model.train()\n",
    "    epoch_loss = 0\n",
    "    step = 0\n",
    "    for batch_data in train_loader:\n",
    "        step_start = time.time()\n",
    "        step += 1\n",
    "        im, seg = batch_data\n",
    "        inputs, labels = (\n",
    "            im.to(device),\n",
    "            seg.to(device),\n",
    "        )\n",
    "        optimizer.zero_grad()\n",
    "        outputs = model(inputs)\n",
    "        loss = loss_function(outputs, labels)\n",
    "        if torch.cuda.is_available():\n",
    "            scaler.scale(loss).backward()\n",
    "            scaler.step(optimizer)\n",
    "            scaler.update()\n",
    "        else:\n",
    "            loss.backward()\n",
    "            optimizer.step()\n",
    "        epoch_loss += loss.item()\n",
    "        print(\n",
    "            f\"{step}/{len(train_ds) // train_loader.batch_size}\"\n",
    "            f\", train_loss: {loss.item():.4f}\"\n",
    "            f\", step time: {(time.time() - step_start):.4f}\"\n",
    "        )\n",
    "    lr_scheduler.step()\n",
    "    epoch_loss /= step\n",
    "    epoch_loss_values.append(epoch_loss)\n",
    "    print(f\"epoch {epoch + 1} average loss: {epoch_loss:.4f}\")\n",
    "    logger.info(f\"epoch {epoch + 1} average loss: {epoch_loss:.4f}\")\n",
    "\n",
    "    outputs = [post_pred(i) for i in decollate_batch(outputs)]\n",
    "    labels = [post_label(i) for i in decollate_batch(labels)]\n",
    "    dice_metric(y_pred=outputs, y=labels)\n",
    "    metric = dice_metric.aggregate().item()\n",
    "    epoch_metric_values.append(metric)\n",
    "\n",
    "    if (epoch + 1) % val_interval == 0:\n",
    "        model.eval()\n",
    "        with torch.no_grad():\n",
    "            for val_data in val_loader:\n",
    "                im, seg = val_data\n",
    "                val_inputs, val_labels = (\n",
    "                    im.to(device),\n",
    "                    seg.to(device),\n",
    "                )\n",
    "                val_outputs = model(val_inputs)\n",
    "                val_outputs = [post_pred(i) for i in decollate_batch(val_outputs)]\n",
    "                val_labels = [post_label(i) for i in decollate_batch(val_labels)]\n",
    "                dice_metric(y_pred=val_outputs, y=val_labels)\n",
    "\n",
    "            metric = dice_metric.aggregate().item()\n",
    "            metric_values.append(metric)\n",
    "            dice_metric.reset()\n",
    "\n",
    "            if metric > best_metric:\n",
    "                best_metric = metric\n",
    "                best_metric_epoch = epoch + 1\n",
    "                best_metrics_epochs_and_time[0].append(best_metric)\n",
    "                best_metrics_epochs_and_time[1].append(best_metric_epoch)\n",
    "                best_metrics_epochs_and_time[2].append(time.time() - total_start)\n",
    "                torch.save(\n",
    "                    model.state_dict(),\n",
    "                    os.path.join(root_dir, \"best_metric_model.pth\"),\n",
    "                )\n",
    "                print(\"saved new best metric model\")\n",
    "            print(\n",
    "                f\"current epoch: {epoch + 1} current mean dice: {metric:.4f}\"\n",
    "                f\"\\nbest mean dice: {best_metric:.4f}\"\n",
    "                f\" at epoch: {best_metric_epoch}\"\n",
    "            )\n",
    "            logger.info(f\"epoch {epoch + 1} mean dice: {metric:.4f}\")\n",
    "    print(f\"time consuming of epoch {epoch + 1} is: {(time.time() - epoch_start):.4f}\")"
   ]
  },
  {
   "cell_type": "markdown",
   "metadata": {
    "id": "DKGtHRCOvKuu"
   },
   "source": [
    "## Plot loss and metric"
   ]
  },
  {
   "cell_type": "code",
   "execution_count": null,
   "metadata": {
    "colab": {
     "base_uri": "https://localhost:8080/"
    },
    "executionInfo": {
     "elapsed": 114029,
     "status": "ok",
     "timestamp": 1693203814519,
     "user": {
      "displayName": "Chang-hyun Park",
      "userId": "11098257337995388595"
     },
     "user_tz": -540
    },
    "id": "UaA52OQXvKuu",
    "outputId": "2720118d-f37c-4a8b-a413-b7b37cc151e4",
    "tags": []
   },
   "outputs": [],
   "source": [
    "total_time = time.time() - total_start\n",
    "print(f\"train completed, best_metric: {best_metric:.4f} at epoch: {best_metric_epoch}, total time: {total_time}.\")\n",
    "logger.info(\n",
    "    f\"best_metric: {best_metric:.4f} at epoch {best_metric_epoch}, \"\n",
    "    f\"total time to train: {total_time}\"\n",
    "    )\n",
    "\n",
    "fig = plt.figure(\"Performance in training\", (12, 6))\n",
    "ax1 = fig.add_subplot(1, 2, 1)\n",
    "ax1.set_title(\"Loss\")\n",
    "x = [i + 1 for i in range(len(epoch_loss_values))]\n",
    "y = epoch_loss_values\n",
    "ax1.plot(x, y, color=\"red\")\n",
    "ax1.set_xlabel(\"Epoch\")\n",
    "ax1.set_ylabel(\"Loss\")\n",
    "ax2 = fig.add_subplot(1, 2, 2)\n",
    "ax2.set_title(\"DSC\")\n",
    "x1 = [i + 1 for i in range(len(epoch_loss_values))]\n",
    "x2 = [val_interval * (i + 1) for i in range(len(metric_values))]\n",
    "y1 = epoch_metric_values\n",
    "y2 = metric_values\n",
    "ax2.plot(x1, y1, color=\"red\")\n",
    "ax2.plot(x2, y2, color=\"blue\")\n",
    "ax2.set_xlabel(\"Epoch\")\n",
    "ax2.set_ylabel(\"DSC\")\n",
    "ax2.legend([\"Train\",\"Validation\"])\n",
    "plt.savefig(os.path.join(root_dir, \"performance.tif\"))\n",
    "plt.show"
   ]
  },
  {
   "cell_type": "markdown",
   "metadata": {
    "id": "KbLhXzESvKuu"
   },
   "source": [
    "## Check best model output"
   ]
  },
  {
   "cell_type": "code",
   "execution_count": null,
   "metadata": {},
   "outputs": [],
   "source": [
    "model.load_state_dict(torch.load(os.path.join(root_dir, \"best_metric_model.pth\")))\n",
    "model.eval()\n",
    "with torch.no_grad():\n",
    "    # Select one image to evaluate and visualize the model output\n",
    "    val_input = val_ds[6][0].unsqueeze(0).to(device)\n",
    "    val_output = model(val_input)\n",
    "    val_output = post_pred(val_output[0])\n",
    "\n",
    "fig = plt.figure(\"Actual vs. Predicted\", (12, 6))\n",
    "ax1 = fig.add_subplot(1, 3, 1)\n",
    "ax1.set_title(\"Image\")\n",
    "ax1.imshow(val_ds[6][0][0,:, :, 30].detach().cpu(), cmap=\"gray\")\n",
    "ax1.axis('off')\n",
    "ax2 = fig.add_subplot(1, 3, 2)\n",
    "ax2.set_title(\"Actual mask\")\n",
    "ax2.imshow(val_ds[6][1][0,:, :, 30].detach().cpu())\n",
    "ax2.axis('off')\n",
    "ax3 = fig.add_subplot(1, 3, 3)\n",
    "ax3.set_title(\"Predicted mask\")\n",
    "ax3.imshow(val_output[0,:, :, 30].detach().cpu())\n",
    "ax3.axis('off')\n",
    "plt.savefig(os.path.join(root_dir, \"actual_predicted.tif\"))\n",
    "plt.show"
   ]
  },
  {
   "cell_type": "markdown",
   "metadata": {},
   "source": [
    "## Apply best model"
   ]
  },
  {
   "cell_type": "code",
   "execution_count": null,
   "metadata": {},
   "outputs": [],
   "source": [
    "# Define NIfTI dataset, dataloader\n",
    "test_root_dir = \"C:\\\\LesionSegmentation\\\\test\"\n",
    "test_images = sorted(glob.glob(os.path.join(test_root_dir, \"brain*.nii.gz\")))\n",
    "test_ds = ArrayDataset(test_images, val_imtrans)\n",
    "\n",
    "# Apply the best model and save predictions\n",
    "model.load_state_dict(torch.load(os.path.join(root_dir, \"best_metric_model.pth\")))\n",
    "model.eval()\n",
    "post_testpred = Compose([Activations(sigmoid=True), AsDiscrete(threshold=0.5), SqueezeDim(dim=0)])\n",
    "saver = SaveImage(output_dir=test_root_dir, output_ext=\".nii.gz\", output_postfix=\"seg\",\n",
    "                  separate_folder=False, print_log=False,\n",
    "                  resample=True, mode='nearest', output_dtype=np.uint8)\n",
    "\n",
    "with torch.no_grad():\n",
    "    for idx in range(len(test_ds)):\n",
    "        test_input = test_ds[idx].unsqueeze(0).to(device)\n",
    "        test_output = model(test_input)[0]\n",
    "        test_output = post_testpred(test_output)\n",
    "\n",
    "        # To save as NIfTI files\n",
    "        saver(test_output)\n",
    "\n",
    "        # To save Numpy array files\n",
    "        # fname = os.path.join(test_root_dir, os.path.split(test_images[idx])[1].replace(\".nii.gz\", \"_seg.npy\"))\n",
    "        # with open(fname, 'wb') as f:\n",
    "        #     np.save(f, test_output)"
   ]
  }
 ],
 "metadata": {
  "colab": {
   "gpuType": "T4",
   "provenance": [],
   "toc_visible": true
  },
  "kernelspec": {
   "display_name": "Python 3 (ipykernel)",
   "language": "python",
   "name": "python3"
  },
  "language_info": {
   "codemirror_mode": {
    "name": "ipython",
    "version": 3
   },
   "file_extension": ".py",
   "mimetype": "text/x-python",
   "name": "python",
   "nbconvert_exporter": "python",
   "pygments_lexer": "ipython3",
   "version": "3.11.5"
  }
 },
 "nbformat": 4,
 "nbformat_minor": 1
}
